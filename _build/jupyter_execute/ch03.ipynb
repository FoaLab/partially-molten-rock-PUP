{
 "cells": [
  {
   "cell_type": "markdown",
   "metadata": {},
   "source": [
    "# Chapter 3 - A review of one-phase mantle dynamics"
   ]
  },
  {
   "cell_type": "code",
   "execution_count": 1,
   "metadata": {},
   "outputs": [],
   "source": [
    "%matplotlib inline\n",
    "from matplotlib import pyplot as plt\n",
    "import numpy as np \n",
    "\n",
    "import warnings \n",
    "warnings.filterwarnings('ignore') "
   ]
  },
  {
   "cell_type": "markdown",
   "metadata": {},
   "source": [
    "## Kinematic solutions for corner flow"
   ]
  },
  {
   "cell_type": "markdown",
   "metadata": {},
   "source": [
    "We consider the incompressible, isoviscous, dimensional Stokes equations without body\n",
    "forces,\n",
    "\n",
    "\\begin{align*}\n",
    "    \\boldsymbol{\\nabla} P - \\eta\\nabla^2\\boldsymbol{v} & = \\boldsymbol{0},\\\\\n",
    "    \\boldsymbol{\\nabla}\\!\\cdot\\boldsymbol{v} & = 0.\n",
    "\\end{align*}\n",
    "\n",
    "Under the assumptions described in Section 3.3, we obtain the biharmonic equation,\n",
    "\n",
    "\\begin{equation*}\n",
    "  \\nabla^2(\\nabla^2\\psi) = 0.\n",
    "\\end{equation*}\n",
    "\n",
    "We wish to solve this equation in the wedge-shaped region below the sloping base of the lithospheric plates.\n",
    "\n",
    "In 2-D polar coordinates, the biharmonic equation (not shown) has the simple, separable solution\n",
    "\n",
    "$$\n",
    "\\begin{align}\n",
    "    \\label{eq:one-phase-biharm-solution-general}\n",
    "    \\psi &= rU_0f(\\theta), \\\\\n",
    "    \\label{eq:vel-polar}\n",
    "    \\boldsymbol{v} &= U_0\\left[f'(\\theta)\\rhat - f(\\theta)\\thetahat\\right],\\\\\n",
    "    \\label{eq:pres-polar}\n",
    "    P &= -\\frac{\\eta U_0}{r}\\left[f'''(\\theta) + f'(\\theta)\\right],\n",
    "\\end{align}\n",
    "$$\n",
    "\n",
    "with\n",
    "\n",
    "$$\n",
    "\\begin{equation}\n",
    "  \\label{eq:one-phase-biharm-solution-thetadep}\n",
    "  f(\\theta) = C_1\\sin\\theta + C_2\\theta\\sin\\theta + C_3\\cos\\theta + C_4\\theta\\cos\\theta.\n",
    "\\end{equation}\n",
    "$$\n",
    "\n",
    "Assuming that the lithospheric plates move horizontally away from the ridge axis at speed $U_0$, we obtain\n",
    "\n",
    "$$\n",
    "\\begin{equation}\n",
    "  \\label{eq:one-phase-cornerflow-constants}\n",
    "  C_1 = \\frac{2\\sin^2\\theta}{\\pi-2\\theta-\\sin2\\theta},\\;\\;\\;\n",
    "  C_2 = C_3 = 0,\\;\\;\\; C_4 = \\frac{-2}{\\pi-2\\theta-\\sin2\\theta}.\n",
    "\\end{equation}\n",
    "$$\n",
    "\n",
    "Combining $\\eqref{eq:one-phase-cornerflow-constants}$ and $\\eqref{eq:one-phase-biharm-solution-thetadep}$, with $\\eqref{eq:vel-polar}$ and $\\eqref{eq:pres-polar}$ gives the solution\n",
    "\n",
    "$$\n",
    "\\begin{align}\n",
    "\\label{eq:one-phase-cornerflow-vel}\n",
    "\\boldsymbol{v} &= U_0\\left\\{\\left[(C_1+C_4)\\cos\\theta - C_4\\theta\\sin\\theta\\right]\\rhat - \n",
    "        (C_1\\sin\\theta + C_4\\theta\\cos\\theta)\\thetahat\\right\\},\\\\\n",
    "\\label{eq:one-phase-cornerflow-press}\n",
    "P &= \\frac{2\\eta U_0}{r}C_4\\cos\\theta.\n",
    "\\end{align}\n",
    "$$\n",
    "\n",
    "The Python implementation of equations $\\eqref{eq:one-phase-cornerflow-vel}$ and $\\eqref{eq:one-phase-cornerflow-press}$ are shown below:"
   ]
  },
  {
   "cell_type": "code",
   "execution_count": 2,
   "metadata": {},
   "outputs": [],
   "source": [
    "def solution_polar_coords(X, Z, theta):\n",
    "\n",
    "    R = np.sqrt(X ** 2 + Z ** 2)\n",
    "    T = np.arctan2(X, -Z)\n",
    "    C1 = 2. * np.sin(theta) ** 2 / (np.pi - 2. * theta - np.sin(2. * theta))\n",
    "    C4 = -2. / (np.pi - 2. * theta - np.sin(2. * theta))\n",
    "    vr = (C1 + C4) * np.cos(T) - C4 * T * np.sin(T)\n",
    "    vt = -(C1 * np.sin(T) + C4 * T * np.cos(T))\n",
    "    U = vr * np.sin(T) + vt * np.cos(T)\n",
    "    W = -vr * np.cos(T) + vt * np.sin(T)\n",
    "    P = 2. * C4 / R * np.cos(T)\n",
    "    P = np.asarray([\n",
    "        [p if np.abs(t) <= 0.5 * np.pi - theta else np.NaN for t, p in zip(rT, rP)] \n",
    "        for rT, rP in zip(T, P)\n",
    "    ])\n",
    "\n",
    "    return U, W, P"
   ]
  },
  {
   "cell_type": "markdown",
   "metadata": {},
   "source": [
    "Expressing these results in the Cartesian coordinate system, we obtain\n",
    "\n",
    "$$\n",
    "\\begin{align}\n",
    "\\label{eq:one-phase-cornerflow-cartesian-vel-x}\n",
    "    \\boldsymbol{v}\\cdot\\hat{\\boldsymbol{x}} &= U_0C_4\\left(\\arctan\\frac{x}{z} - \\frac{xz}{x^2 + z^2}\\right), \\\\\n",
    "\\label{eq:one-phase-cornerflow-cartesian-vel-z}\n",
    "    \\boldsymbol{v}\\cdot\\hat{\\boldsymbol{z}} &= U_0C_4\\left(\\sin^2\\theta_p - \\frac{z^2}{x^2 + z^2}\\right), \\\\\n",
    "\\label{eq:one-phase-cornerflow-cartesian-press}\n",
    "    P &= 2\\eta U_0 C_4 \\frac{-z}{x^2 + z^2}.\n",
    "\\end{align}\n",
    "$$\n",
    "\n",
    "The Python implementation of equations $\\eqref{eq:one-phase-cornerflow-cartesian-vel-x}$-$\\eqref\n",
    "{eq:one-phase-cornerflow-cartesian-press}$ are shown below:"
   ]
  },
  {
   "cell_type": "code",
   "execution_count": 3,
   "metadata": {},
   "outputs": [],
   "source": [
    "def solution_cartesian_coords(X, Z, theta):\n",
    "\n",
    "    C1 = 2. * (np.sin(theta)) ** 2 / (np.pi - 2. * theta - np.sin(2. * theta))\n",
    "    C4 = -2. / (np.pi - 2. * theta - np.sin(2. * theta))\n",
    "    T = -np.arctan(X/Z)\n",
    "    Q = (X ** 2 + Z ** 2)\n",
    "\n",
    "    U = C4 * (np.arctan(X/Z) - X * Z / Q)\n",
    "    W = C4 * (np.sin(theta) ** 2 - Z ** 2. / Q)\n",
    "    P = -2. * C4 * Z / Q\n",
    "\n",
    "    P = np.asarray([\n",
    "        [p if np.abs(t) <= 0.5 * np.pi - theta else np.NaN for t, p in zip(rT, rP)]\n",
    "        for rT, rP in zip(T, P)\n",
    "    ])\n",
    "\n",
    "    return U, W, P"
   ]
  },
  {
   "cell_type": "markdown",
   "metadata": {},
   "source": [
    "This notebook exemplifies the corner flow model with the dip of the lithosphere base $\\theta_p$, which \n",
    "physically varies from $0^\\circ$ to nearly $60^\\circ$:"
   ]
  },
  {
   "cell_type": "code",
   "execution_count": 4,
   "metadata": {},
   "outputs": [],
   "source": [
    "theta_p = 25. * np.pi / 180.  # it can vary from 0 to 60 deg."
   ]
  },
  {
   "cell_type": "markdown",
   "metadata": {},
   "source": [
    "The velocity and pressure from $\\eqref{eq:one-phase-cornerflow-vel}$ and $\\eqref{eq:one-phase-cornerflow-press}$ (or, equivalently, $\\eqref{eq:one-phase-cornerflow-cartesian-vel-x}$-$\\eqref{eq:one-phase-cornerflow-cartesian-press}$) are computed below:"
   ]
  },
  {
   "cell_type": "code",
   "execution_count": 5,
   "metadata": {},
   "outputs": [],
   "source": [
    "x = np.linspace(-1.0, 1.0, 500)\n",
    "z = np.linspace(-1.0, 0.0, 500)\n",
    "\n",
    "[X, Z] = np.meshgrid(x, z)\n",
    "\n",
    "# switch between polar and cartesian coordinate system:\n",
    "# [U, W, P] = solution_polar_coords(X, Z, theta_p)  # refer to equations (6) and (7) \n",
    "[U, W, P] = solution_cartesian_coords(X, Z, theta_p);  # reter to equations (8) and (10)"
   ]
  },
  {
   "cell_type": "markdown",
   "metadata": {},
   "source": [
    "Figure 3.1 plots the velocity streamlines and pressure contours."
   ]
  },
  {
   "cell_type": "code",
   "execution_count": 6,
   "metadata": {},
   "outputs": [
    {
     "data": {
      "image/png": "[encoded data removed]",
      "text/plain": [
       "<Figure size 864x432 with 1 Axes>"
      ]
     },
     "metadata": {
      "filenames": {
       "image/png": "/Users/fredericoteixeira/Projects/partially-molten-rock-PUP/_build/jupyter_execute/ch03_12_0.png"
      },
      "needs_background": "light"
     },
     "output_type": "display_data"
    }
   ],
   "source": [
    "fig, ax = plt.subplots()\n",
    "fig.set_size_inches(12., 6.)\n",
    "\n",
    "nlines = 7\n",
    "sm = 0.2 * np.minimum(np.sin(theta_p), np.cos(theta_p))\n",
    "\n",
    "# velocity streamlines in the positive X axis\n",
    "seed = np.zeros([nlines, 2])\n",
    "seed[:, 0] = np.linspace(sm*np.cos(theta_p), np.cos(theta_p), nlines)\n",
    "seed[:, 1] = np.linspace(-sm*np.sin(theta_p), -np.sin(theta_p), nlines)\n",
    "ax.plot(seed[:, 0], seed[:, 1], 'bo')\n",
    "ax.streamplot(\n",
    "    X, Z, U, W, arrowstyle='-', color='b', start_points=seed, \n",
    "    integration_direction='backward'\n",
    ")\n",
    "\n",
    "# velocity streamlines in the negative X axis\n",
    "seed[:, 0] = np.linspace(-np.cos(theta_p), -sm*np.cos(theta_p), nlines)\n",
    "seed[:, 1] = np.linspace(-np.sin(theta_p), -sm*np.sin(theta_p), nlines)\n",
    "ax.plot(seed[:, 0], seed[:, 1], 'ro')\n",
    "ax.streamplot(\n",
    "    X, Z, U, W, arrowstyle='-', color='r', \n",
    "    start_points=seed, integration_direction='backward'\n",
    ")\n",
    "\n",
    "# pressure contours\n",
    "ax.contour(\n",
    "    X, Z, P, levels=[-100., -50., -10., -5.], colors='g', linestyles='-'\n",
    ")\n",
    "\n",
    "# plot X axis\n",
    "ax.plot([-1., 1.], [0., 0.], '-k', linewidth=2)\n",
    "\n",
    "# plot the bottom of the lithosphere plates\n",
    "ax.plot(\n",
    "    [-np.cos(theta_p), 0., np.cos(theta_p)], \n",
    "    [-np.sin(theta_p), 0., -np.sin(theta_p)], \n",
    "    '-k', linewidth=2\n",
    ")\n",
    "\n",
    "# U_0 line\n",
    "ax.plot([0.6, 0.9], [-np.sin(theta_p)/3., -np.sin(theta_p)/3.], '-k', linewidth=2)\n",
    "ax.plot(0.9, -np.sin(theta_p)/3., '>k', markersize=10, markerfacecolor='k')\n",
    "ax.text(0.65, -np.sin(theta_p)/3.5, r'$U_0$', fontsize=20)\n",
    "\n",
    "# -U_0 line\n",
    "ax.plot([-0.6, -0.9], [-np.sin(theta_p)/3., -np.sin(theta_p)/3.], '-k', linewidth=2)\n",
    "ax.plot(-0.9, -np.sin(theta_p)/3., '<k', markersize=10, markerfacecolor='k')\n",
    "ax.text(-0.7, -np.sin(theta_p)/3.5, r'$-U_0$', fontsize=20)\n",
    "\n",
    "ax.set_axis_off()\n",
    "\n",
    "fig.supxlabel(\"Figure 3.1\", fontsize=20)\n",
    "\n",
    "plt.show()"
   ]
  },
  {
   "cell_type": "code",
   "execution_count": null,
   "metadata": {},
   "outputs": [],
   "source": []
  }
 ],
 "metadata": {
  "interpreter": {
   "hash": "b47e5d4a0d5131495e5b5b7a402685b59718b6a727d38588b75f6742b153b3e8"
  },
  "kernelspec": {
   "display_name": "Python 3.9.2 64-bit ('rock-env': venv)",
   "name": "python3"
  },
  "language_info": {
   "codemirror_mode": {
    "name": "ipython",
    "version": 3
   },
   "file_extension": ".py",
   "mimetype": "text/x-python",
   "name": "python",
   "nbconvert_exporter": "python",
   "pygments_lexer": "ipython3",
   "version": "3.9.2"
  },
  "latex_envs": {
   "LaTeX_envs_menu_present": true,
   "autoclose": false,
   "autocomplete": true,
   "bibliofile": "biblio.bib",
   "cite_by": "apalike",
   "current_citInitial": 1,
   "eqLabelWithNumbers": true,
   "eqNumInitial": 1,
   "hotkeys": {
    "equation": "Ctrl-E",
    "itemize": "Ctrl-I"
   },
   "labels_anchors": false,
   "latex_user_defs": false,
   "report_style_numbering": false,
   "user_envs_cfg": false
  }
 },
 "nbformat": 4,
 "nbformat_minor": 2
}