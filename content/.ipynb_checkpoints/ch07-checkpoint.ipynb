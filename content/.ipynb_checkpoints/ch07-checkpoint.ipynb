{
 "cells": [
  {
   "cell_type": "markdown",
   "metadata": {},
   "source": [
    "# Chapter 7 - Porosity-band emergence under deformation"
   ]
  },
  {
   "cell_type": "code",
   "execution_count": null,
   "metadata": {},
   "outputs": [],
   "source": [
    "%matplotlib inline\n",
    "import matplotlib.pyplot as plt\n",
    "import numpy as np\n",
    "from scipy import integrate\n",
    "from scipy.interpolate import griddata"
   ]
  },
  {
   "cell_type": "markdown",
   "metadata": {},
   "source": [
    "## The (in)stability of perturbations\n",
    "\n",
    "Our perturbation will take the form of harmonic plane waves,\n",
    "\\begin{equation}\n",
    "  \\label{eq:shearband-perturbation-prototype}\n",
    "  \\por\\first(\\posvec,t) \\propto \\e^{i\\wavevector\\cdot\\posvec + s(t)}.\n",
    "\\end{equation}\n",
    "\n",
    "The orientation of these waves is described by an angle $\\bandangle$ to the $x$-axis, as shown in the figure below."
   ]
  },
  {
   "cell_type": "code",
   "execution_count": null,
   "metadata": {},
   "outputs": [],
   "source": [
    "theta = 30."
   ]
  },
  {
   "cell_type": "code",
   "execution_count": null,
   "metadata": {},
   "outputs": [],
   "source": [
    "x = np.linspace(-1.0, 1.0, 1000)\n",
    "y = np.linspace(-1.0, 1.0, 1000)\n",
    "[X, Y] = np.meshgrid(x,y)\n",
    "\n",
    "k0 = 3.*(2.*np.pi)\n",
    "theta_rad = theta * np.pi/180.\n",
    "k = np.asarray([k0*np.sin(-theta_rad), k0*np.cos(-theta_rad)])\n",
    "z = np.real(np.exp(1.j*(k[0]*X + k[1]*Y)))"
   ]
  },
  {
   "cell_type": "code",
   "execution_count": null,
   "metadata": {},
   "outputs": [],
   "source": [
    "fig, ax = plt.subplots()\n",
    "fig.set_size_inches(9.0, 9.0)\n",
    "\n",
    "ax.imshow(z, extent=[-1.5, 1.1, -1.5, 1.1], cmap=plt.get_cmap('Greys'))\n",
    "ax.set_xlim(-1.1, 1.1)\n",
    "ax.set_ylim(-1.1, 1.1)\n",
    "\n",
    "ax.plot([-1.1, 1.1], [0.0, 0.0], '-b', linewidth=3)\n",
    "ax.plot([0.2, 0.2-2.*np.cos(theta_rad)],[0., 2.*np.sin(theta_rad)], '-r', linewidth=2)\n",
    "ax.plot([0.2, 0.2+2.*np.cos(theta_rad)],[0., -2.*np.sin(theta_rad)],'-r', linewidth=2)\n",
    "\n",
    "ax.text(0.0, 0.0, r'$\\theta$', fontsize=20, ha='right', va='bottom')\n",
    "ax.text(1.15, -0.05, r'$\\longrightarrow$', fontsize=30)\n",
    "ax.text(1.39, 0.0, r'$x$', fontsize=20)\n",
    "ax.text(1.12, -0.015, r'$\\longrightarrow$', fontsize=30, rotation=90)\n",
    "ax.text(1.12, 0.2, r'$y$', fontsize=20)\n",
    "ax.text(1.12, -0.045, r'$\\longrightarrow$', fontsize=30, rotation=90-theta)\n",
    "ax.text(1.28, 0.15, r'$\\mathbf{k}$', fontsize=18)\n",
    "ax.text(1.195, 0.07, r'$\\theta$', fontsize=10)\n",
    "\n",
    "ax.set_axis_off()\n",
    "plt.show()"
   ]
  },
  {
   "cell_type": "markdown",
   "metadata": {},
   "source": [
    "### Pure shear\n",
    "\n",
    "The dispersion relation is\n",
    "\n",
    "\\begin{equation}\n",
    "  \\label{eq:pureshear-growthrate}\n",
    "  \\growrate = \\pm 2\\left(1-\\por\\zeroth\\right)\n",
    "  \\frac{\\porweaken\\shearstrainrate}{\\viscratio\\zeroth}\n",
    "  \\frac{\\left(2\\pi\\cmplength_0/\\wavelength\\right)^2}\n",
    "  {1+\\left(2\\pi\\cmplength_0/\\wavelength\\right)^2},\n",
    "\\end{equation}\n",
    "\n",
    "Dispersion curves showing normalised growth rate of perturbations versus perturbation wavelength are plotted below on log-linear axes:"
   ]
  },
  {
   "cell_type": "code",
   "execution_count": null,
   "metadata": {},
   "outputs": [],
   "source": [
    "x = 2. * np.pi * np.logspace(-6.0, 4.0, 1000)\n",
    "y = (2*np.pi/x)/(1.0+2.0*np.pi/x)"
   ]
  },
  {
   "cell_type": "code",
   "execution_count": null,
   "metadata": {},
   "outputs": [],
   "source": [
    "fig, ax = plt.subplots()\n",
    "fig.set_size_inches(18.0, 9.0)\n",
    "\n",
    "ax.semilogx(x, y, '-k', linewidth=2)\n",
    "ax.set_xlim(1e-3, 1e4)\n",
    "ax.set_ylim(-0.01, 1.01)\n",
    "\n",
    "ax.plot([2*np.pi, 2*np.pi], [-0.01, 1.01], ':r')\n",
    "ax.text(2*np.pi*1.1, 0.85, r'$l=2\\pi\\delta_{0}$', rotation=-90, va='bottom', fontsize=20)\n",
    "ax.set_xlabel(r'$l/\\delta_{0}$', fontsize=20)\n",
    "ax.set_xticks((1e-2, 1e0, 1e2, 1e4))\n",
    "plt.gca().xaxis.grid(True, which='minor', linestyle='--')\n",
    "ax.set_ylabel(r'$\\vert \\dot{s}\\vert/[2(1-\\phi^{(0)})\\lambda\\dot{\\gamma}/\\nu^{(0)}_\\phi]$', fontsize=20)\n",
    "ax.set_yticks((0.0, 0.25, 0.5, 0.75, 1.0))\n",
    "ax.tick_params(axis='both', which='major', labelsize=13)\n",
    "plt.gca().yaxis.grid(True, which='major')\n",
    "plt.show()"
   ]
  },
  {
   "cell_type": "markdown",
   "metadata": {},
   "source": [
    "and on log-log axes:"
   ]
  },
  {
   "cell_type": "code",
   "execution_count": null,
   "metadata": {},
   "outputs": [],
   "source": [
    "x = 2. * np.pi * np.logspace(-6.0, 4.0, 1000)\n",
    "y = (2.*np.pi/x)/(1.+2.*np.pi/x)"
   ]
  },
  {
   "cell_type": "code",
   "execution_count": null,
   "metadata": {},
   "outputs": [],
   "source": [
    "fig, ax = plt.subplots()\n",
    "fig.set_size_inches(18.0, 9.0)\n",
    "\n",
    "ax.loglog(x, y, '-k', linewidth=2)\n",
    "ax.set_xlim(1e-3, 1e4)\n",
    "ax.set_ylim(1e-3, 1.1)\n",
    "\n",
    "ax.set_xlabel(r'$l/\\delta_{0}$', fontsize=20)\n",
    "ax.set_xticks((1e-2, 1e0, 1e2, 1e4))\n",
    "plt.gca().xaxis.grid(True, which='minor', linestyle='--')\n",
    "ax.set_ylabel(r'$\\vert \\dot{s}\\vert/[2(1-\\phi^{(0)})\\lambda\\dot{\\gamma}/\\nu^{(0)}_\\phi]$', fontsize=20)\n",
    "ax.set_yticks((1e-3, 1e-2, 1e-1, 1e0))\n",
    "plt.gca().yaxis.grid(True, which='major')\n",
    "\n",
    "ax.plot([2.*np.pi, 2.*np.pi], [1e-10, 10.0], ':r')\n",
    "ax.text(2*np.pi*1.1, 0.005, r'$l=2\\pi\\delta_{0}$', rotation=-90, va='bottom', fontsize=20)\n",
    "ax.tick_params(axis='both', which='major', labelsize=13)\n",
    "\n",
    "plt.show()"
   ]
  },
  {
   "cell_type": "markdown",
   "metadata": {},
   "source": [
    "### Simple shear\n",
    "\n",
    "#### Porosity advection by the base-state\n",
    "\n",
    "Schematic diagram normal to the shear plane showing a representative high-porosity band oriented at an angle $\\bandangle$ with normal $\\wavevector$. The band is being rotated to higher $\\bandangle$ by the simple-shear flow."
   ]
  },
  {
   "cell_type": "code",
   "execution_count": null,
   "metadata": {},
   "outputs": [],
   "source": [
    "th2 = 20.0"
   ]
  },
  {
   "cell_type": "code",
   "execution_count": null,
   "metadata": {},
   "outputs": [],
   "source": [
    "fig, ax = plt.subplots()\n",
    "fig.set_size_inches(9.0, 9.0)\n",
    "\n",
    "rot = -th2*np.pi/180.\n",
    "M = np.asarray(((np.cos(rot), -np.sin(rot)), (np.sin(rot), np.cos(rot))))\n",
    "aM = np.dot(M, np.asarray(((-1., 1.), (0.0, 0.0))))\n",
    "ax.plot(aM[0, :], aM[1, :], '-k', linewidth=3)\n",
    "ax.plot([-1., 1.], [-np.sin(rot), -np.sin(rot)], 'k')  # bottom line\n",
    "ax.plot([-1., 1.], [0., 0.], '--k')  # middle line\n",
    "ax.plot([-1., 1.], [np.sin(rot), np.sin(rot)], 'k')  # top line\n",
    "ax.plot([-0.3, 0.3, 0.1], [1.1*np.sin(rot), 1.1*np.sin(rot), 1.2*np.sin(rot)], 'r')  # top red arrow\n",
    "ax.plot([0.3, -0.3, -0.1], [-1.1*np.sin(rot), -1.1*np.sin(rot), -1.2*np.sin(rot)], 'r')  # bottom red arrow\n",
    "\n",
    "al = 0.5 * np.abs(np.sin(rot))\n",
    "ahl = 0.05 * np.abs(np.sin(rot))\n",
    "av = np.zeros(5 * 2).reshape(2, 5)\n",
    "av[0, :] = np.asarray((0., al, al-ahl, al, al-ahl))\n",
    "av[1, :] = np.asarray((0., 0., ahl, 0., -ahl))\n",
    "rot_90 = (90.-th2)*np.pi/180.\n",
    "M = np.asarray(((np.cos(rot_90), -np.sin(rot_90)), (np.sin(rot_90), np.cos(rot_90))))\n",
    "aM = np.dot(M, av)\n",
    "ax.plot(aM[0, :], aM[1, :], '-k')\n",
    "ax.text(aM[0, -1], aM[1, -1], r'$\\mathbf{k}$', fontsize=20, va='top', ha='left')\n",
    "\n",
    "ax.set_xlim(-1.0, 1.0)\n",
    "ax.set_ylim(-1.0, 1.0)\n",
    "ax.text(-0.5*np.abs(np.cos((180.-th2)*np.pi/180.)), 0.04, r'$\\theta$', fontsize=20)\n",
    "ax.text(0.4, 0.05, r'shear plane', fontsize=20)\n",
    "\n",
    "ax.set_axis_off()\n",
    "plt.show()"
   ]
  },
  {
   "cell_type": "markdown",
   "metadata": {},
   "source": [
    "Figure above shows a wave-front with wavevector $\\wavevector$ at time $t$. It makes an angle to the shear plane of\n",
    "\\begin{equation}\n",
    "  \\label{eq:simpleshear-bandangle}\n",
    "  \\bandangle(t) = \\tan^{-1} \\left( \\frac{\\wavenumber_{0x}}{\\wavenumber_{0y} - \\shearstrainrate\\wavenumber_{0x}t} \\right).\n",
    "\\end{equation}\n",
    "\n",
    "A plot of band angle from equation \\eqref{eq:simpleshear-bandangle} as a function of progressive shear strain (on the $y$-axis) is shown in below."
   ]
  },
  {
   "cell_type": "code",
   "execution_count": null,
   "metadata": {},
   "outputs": [],
   "source": [
    "th0 = np.arange(5, 61, 5)*np.pi/180.\n",
    "t = np.linspace(0., 3., 1000)\n",
    "th = np.asarray([np.arctan2(np.sin(th0i), np.cos(th0i) - t*np.sin(th0i)) for th0i in th0])"
   ]
  },
  {
   "cell_type": "code",
   "execution_count": null,
   "metadata": {},
   "outputs": [],
   "source": [
    "fig, ax = plt.subplots()\n",
    "fig.set_size_inches(18.0, 9.0)\n",
    "\n",
    "for th_ in th:\n",
    "    ax.plot(th_*180/np.pi, t, '-k')\n",
    "ax.set_xlim(0., 160.)\n",
    "ax.set_ylim(0., 3.)\n",
    "ax.set_xlabel(r'$\\theta$, degrees', fontsize=20)\n",
    "ax.set_xticks(np.arange(0.0, 150.1, 30.0))\n",
    "ax.set_ylabel(r'$\\gamma = \\dot{\\gamma}t$', fontsize=20)\n",
    "ax.set_yticks((0.0, 0.5, 1, 1.5, 2, 2.5, 3))\n",
    "ax.tick_params(axis='both', which='major', labelsize=13)\n",
    "\n",
    "plt.show()"
   ]
  },
  {
   "cell_type": "markdown",
   "metadata": {},
   "source": [
    "#### Growth of porosity bands when $\\strrexp=1$\n",
    "\n",
    "The growth rate can be written as\n",
    "\\begin{equation}\n",
    "  \\label{eq:simpleshear-growthrate-angle}\n",
    "  \\growrate = \\left(1-\\por\\zeroth\\right)\n",
    "  \\frac{\\porweaken\\shearstrainrate}{\\viscratio\\zeroth}\n",
    "  \\frac{(\\cmplength_0\\wavenumber)^2}\n",
    "  {1 + (\\cmplength_0\\wavenumber)^2}\\sin 2\\bandangle.\n",
    "\\end{equation}\n",
    "\n",
    "Figure below plots the normalised growth rate of small-wavelength ($\\wavelength\\ll\\cmplength_0$) porosity bands under simple shear and Newtonian viscosity."
   ]
  },
  {
   "cell_type": "code",
   "execution_count": null,
   "metadata": {},
   "outputs": [],
   "source": [
    "fig, ax = plt.subplots()\n",
    "fig.set_size_inches(18.0, 9.0)\n",
    "\n",
    "theta = np.linspace(0., np.pi, 1000)\n",
    "\n",
    "ax.plot([15., 15.], [-2., 2.],':r')\n",
    "ax.plot(theta*180./np.pi, np.sin(2.*theta), '-k', linewidth=2)\n",
    "ax.set_xlim(0., 180.)\n",
    "ax.set_ylim(-1.1, 1.1)\n",
    "\n",
    "ax.set_xlabel(r'$\\theta$, degrees', fontsize=20)\n",
    "ax.set_xticks(np.arange(0.0, 180.1, 45.))\n",
    "ax.set_ylabel(r'$\\dot{s}/[(1-\\phi^{(0)})\\lambda\\dot{\\gamma}/(n\\nu^{(0)}_\\phi)]$', fontsize=20)\n",
    "ax.set_yticks(np.arange(-1.0, 1.01, 0.5))\n",
    "ax.text(45., 0.5, 'growth', fontsize=20, ha='center', va='bottom')\n",
    "ax.text(135., -0.5, 'decay', fontsize=20, ha='center', va='bottom')\n",
    "ax.tick_params(axis='both', which='major', labelsize=13)\n",
    "plt.grid(True)\n",
    "plt.show()"
   ]
  },
  {
   "cell_type": "markdown",
   "metadata": {},
   "source": [
    "#### Growth of porosity bands when $\\strrexp\\ge1$\n",
    "\n",
    "The growth rate can be written as\n",
    "\\begin{equation}\n",
    "  \\label{eq:simpleshear-nonnewt-growthrate}\n",
    "  \\growrate = \\left(1-\\por\\zeroth\\right)\n",
    "  \\frac{\\porweaken\\shearstrainrate}{\\strrexp\\viscratio\\zeroth}\n",
    "    \\frac{\\left(\\cmplength_0k\\right)^2}\n",
    "    {1 + \\left(\\cmplength_0k\\right)^2}\n",
    "    \\left(\\frac{\\sin2\\theta}{1-\\strrexpc\\cos^22\\theta}\\right).\n",
    "\\end{equation}\n",
    "\n",
    "Figure below plots the normalised growth rate of small-wavelength ($\\wavelength\\ll\\cmplength_0$) porosity bands under simple shear and non-Newtonian viscosity with various values of $\\strrexp$. The vertical dotted lines mark $\\theta=15^\\circ$."
   ]
  },
  {
   "cell_type": "code",
   "execution_count": null,
   "metadata": {},
   "outputs": [],
   "source": [
    "fig, ax = plt.subplots()\n",
    "fig.set_size_inches(18.0, 9.0)\n",
    "\n",
    "ax.plot([15., 15.], [-2., 2.], ':k')\n",
    "n = np.asarray((1, 2, 4, 6))\n",
    "theta = np.linspace(0., np.pi, 1000)\n",
    "for i in n:\n",
    "    N = (i-1)/i\n",
    "    colr = [1.0-i/np.amax(n), 1.-i/np.amax(n), 1.-i/np.amax(n)]\n",
    "    ax.plot(theta*180./np.pi, np.sin(2.*theta)/(1.-N*np.cos(2.*theta)**2), '-k', \n",
    "            linewidth=2, label=r'$n='+str(i)+'$', color=colr)\n",
    "\n",
    "ax.set_xlim(0., 180.)\n",
    "ax.set_ylim(-1.4, 1.4)\n",
    "ax.set_xlabel(r'$\\theta$, degrees', fontsize=20)\n",
    "ax.set_xticks(np.arange(0.0, 180.1, 45.))\n",
    "ax.set_ylabel(r'$\\dot{s}/[(1-\\phi^{(0)})\\lambda\\dot{\\gamma}/(n\\nu^{(0)}_\\phi)]$', fontsize=20)\n",
    "ax.set_yticks(np.arange(-1.0, 1.01, 0.5))\n",
    "ax.legend(fontsize=15, loc='upper right')\n",
    "ax.tick_params(axis='both', which='major', labelsize=13)\n",
    "plt.grid(True)\n",
    "plt.show()"
   ]
  },
  {
   "cell_type": "markdown",
   "metadata": {},
   "source": [
    "#### Extending the analysis to finite strain\n",
    "\n",
    "Restricting our focus to the case of wavelengths much smaller than the compaction length, we can obtain $s$ by integrating\n",
    "\\begin{equation}\n",
    "  \\label{eq:simpleshear-perturbation-amplitude}\n",
    "  s(\\bandangle,t) =\n",
    "  \\left(1-\\por\\zeroth\\right)\n",
    "  \\frac{\\porweaken\\shearstrainrate}{\\strrexp\\viscratio\\zeroth}\\int_0^t\n",
    "  \\left(\\frac{\\sin2\\theta(t')}{1-\\strrexpc\\cos^22\\theta(t')}\\right)\\infd t',\n",
    "\\end{equation}\n",
    "where $t'$ is a dummy variable of integration, to distinguish it from the (variable) upper limit of integration, $t$.\n",
    "\n",
    "Figure below plots the amplitude of porosity perturbations $\\e^{\\growamp(t)}$ as a function of angle and strain $\\gamma=\\shearstrainrate t$. Dotted curves are passive advection trajectories from eqn. \\eqref{eq:simpleshear-bandangle} with Newtonian viscosity ($\\strrexp=1,\\,\\strrexpc=0$)."
   ]
  },
  {
   "cell_type": "code",
   "execution_count": null,
   "metadata": {},
   "outputs": [],
   "source": [
    "ncontours = 20\n",
    "\n",
    "N = 600\n",
    "tmax = 3.3\n",
    "th0 = np.linspace(0., 135.*np.pi/180., N, endpoint=True)\n",
    "t = np.linspace(0., tmax, N)\n",
    "theta = np.asarray([np.arctan2(np.sin(th0i), np.cos(th0i) - t*np.sin(th0i)) for th0i in th0])\n",
    "amp = np.asarray([integrate.cumtrapz(np.sin(2.*th), t, initial=0) for th in theta])\n",
    "\n",
    "THETA, T = np.meshgrid(th0, t)\n",
    "\n",
    "tt = np.tile(t, N)\n",
    "exp_amp = np.exp(amp)\n",
    "F = griddata((theta.reshape(N*N), tt), exp_amp.reshape(N*N), (THETA.reshape(N*N), T.reshape(N*N)))\n",
    "A = np.exp(F).reshape(N, N)\n",
    "A = np.asarray([a/np.max(a) for a in A])\n",
    "                                                   \n",
    "convec = np.linspace(0.05, 0.95, 10, endpoint=True)\n",
    "convecB = np.linspace(0.05, 0.95, 4, endpoint=True)\n",
    "convec = np.setdiff1d(convec, convecB)\n",
    "\n",
    "th0_ = np.concatenate((np.arange(2, 45, 4), np.arange(49, 135, 8)), axis=0)*np.pi/180.\n",
    "th_ = np.asarray([np.arctan2(np.sin(th0i), (np.cos(th0i) - t*np.sin(th0i))) for th0i in th0_])"
   ]
  },
  {
   "cell_type": "code",
   "execution_count": null,
   "metadata": {},
   "outputs": [],
   "source": [
    "fig, ax = plt.subplots()\n",
    "fig.set_size_inches(18.0, 9.0)\n",
    "\n",
    "CS = ax.contour(th0*180./np.pi, t, A, convec, cmap=plt.cm.binary, linewidths=1)\n",
    "CSB = ax.contour(th0*180./np.pi, t, A, convecB, colors='k', linewidths=2)\n",
    "ax.clabel(CSB, inline=1, fontsize=15)\n",
    "\n",
    "for thi in th_:\n",
    "    ax.plot(thi*180./np.pi, t, ':k')\n",
    "ax.set_xlabel(r'$\\theta$, degrees', fontsize=20)\n",
    "ax.set_ylabel(r'$\\gamma=\\dot{\\gamma}t$', fontsize=20)\n",
    "ax.set_xlim(0., np.amax(th0_)*180./np.pi)\n",
    "ax.set_ylim(0., np.amax(t))\n",
    "ax.set_xticks((0, 15, 30, 45, 60, 90, 120))\n",
    "ax.set_yticks((0, 1, 2, 3))\n",
    "ax.tick_params(axis='both', which='major', labelsize=13)\n",
    "plt.show()"
   ]
  },
  {
   "cell_type": "markdown",
   "metadata": {},
   "source": [
    "Figure below also plots the amplitude of porosity perturbations $\\e^{\\growamp(t)}$ as a function of angle and strain $\\gamma=\\shearstrainrate t$, but the dotted curves are passive advection trajectories consider Non-Newtonian viscosity ($\\strrexp=6,\\,\\strrexpc=5/6$)."
   ]
  },
  {
   "cell_type": "code",
   "execution_count": null,
   "metadata": {},
   "outputs": [],
   "source": [
    "eps = 2.2204e-16\n",
    "n = 6.\n",
    "N = 600\n",
    "tmax = 3.3\n",
    "dpts = np.asarray([0., 5., 20., 135.])*np.pi/180.\n",
    "th0 = np.linspace(dpts[0], dpts[1], N/4)\n",
    "th0 = np.concatenate((th0, np.linspace(dpts[1] + eps, dpts[2], N/2)), axis=0)\n",
    "th0 = np.concatenate((th0, np.linspace(dpts[2] + eps, dpts[3], N/4)), axis=0)\n",
    "assert th0.shape[0] == N, 'th0 was wrongly calculated'\n",
    "\n",
    "t = np.linspace(0., tmax, N)\n",
    "nf = (1.-n)/n\n",
    "\n",
    "theta = np.asarray([np.arctan2(np.sin(th0i), np.cos(th0i) - t*np.sin(th0i)) for th0i in th0])\n",
    "amp = np.asarray([integrate.cumtrapz(np.sin(2.*th)/(1+nf*np.cos(2.*th)**2), t, initial=0) for th in theta])\n",
    "\n",
    "THETA, T = np.meshgrid(th0, t)\n",
    "\n",
    "tt = np.tile(t, N)\n",
    "exp_amp = np.exp(amp)\n",
    "F = griddata((theta.reshape(N*N), tt), exp_amp.reshape(N*N), (THETA.reshape(N*N), T.reshape(N*N)))\n",
    "A = np.exp(F).reshape(N, N)\n",
    "A = np.asarray([a/np.max(a) for a in A])\n",
    "\n",
    "convec = np.linspace(0.05, 0.95, 10, endpoint=True)\n",
    "convecB = np.linspace(0.05, 0.95, 4, endpoint=True)\n",
    "convec = np.setdiff1d(convec, convecB)\n",
    "\n",
    "th0_ = np.concatenate((np.arange(2, 45, 4), np.arange(49, 135, 8)), axis=0)*np.pi/180.\n",
    "th = np.asarray([np.arctan2(np.sin(th0i), np.cos(th0i) - t*np.sin(th0i)) for th0i in th0_])"
   ]
  },
  {
   "cell_type": "code",
   "execution_count": null,
   "metadata": {},
   "outputs": [],
   "source": [
    "fig, ax = plt.subplots()\n",
    "fig.set_size_inches(18.0, 9.0)\n",
    "\n",
    "CS = ax.contour(th0*180./np.pi, t, A, convec, cmap=plt.cm.binary, linewidths=1.0)\n",
    "CSB = ax.contour(th0*180./np.pi, t, A, convecB, colors='k', linewidths=2)\n",
    "ax.clabel(CSB, inline=1, fontsize=15)\n",
    "\n",
    "for thi in th_:\n",
    "    ax.plot(thi*180./np.pi, t, ':k')\n",
    "\n",
    "ax.set_xlabel(r'$\\theta$, degrees', fontsize=20)\n",
    "ax.set_ylabel(r'$\\gamma=\\dot{\\gamma}t$', fontsize=20)\n",
    "ax.set_xlim(0., np.amax(th0_)*180./np.pi)\n",
    "ax.set_ylim(-0.02, np.amax(t))\n",
    "ax.set_xticks((0, 15, 30, 45, 60, 90, 120))\n",
    "ax.set_yticks((0, 1, 2, 3))\n",
    "ax.tick_params(axis='both', which='major', labelsize=13)\n",
    "\n",
    "plt.show()"
   ]
  },
  {
   "cell_type": "markdown",
   "metadata": {},
   "source": [
    "## Wavelength selection by surface tension"
   ]
  },
  {
   "cell_type": "markdown",
   "metadata": {},
   "source": [
    "The growth rate of porosity bands versus wavelength is given by\n",
    "\\begin{equation}\n",
    "  \\label{eq:porband-sfcten-growrate-wavenum}\n",
    "  \\growrate_* = \\frac{\\wavenumber_*^2\\left(1-\\sfctenvshear\\,\\wavenumber_*^2\\right)}\n",
    "  {\\wavenumber_*^2+1}.\n",
    "\\end{equation}\n",
    "Increasing values of $\\sfctenvshear$ represent an increasing strength of surface-tension driven segregation. Figure below plots \\eqref{eq:porband-sfcten-growrate-wavenum} in log-linear scale."
   ]
  },
  {
   "cell_type": "code",
   "execution_count": null,
   "metadata": {},
   "outputs": [],
   "source": [
    "k = np.logspace(-2, 3, 10000)\n",
    "Rb = np.asarray([0., 0.0001, 0.001, 0.01])\n",
    "sd = np.asarray([k**2.*(1. - Rbi*k**2)/(k**2+1.) for Rbi in Rb])\n",
    "l_on_d = 2*np.pi/k"
   ]
  },
  {
   "cell_type": "code",
   "execution_count": null,
   "metadata": {},
   "outputs": [],
   "source": [
    "fig, ax = plt.subplots()\n",
    "fig.set_size_inches(9.0, 9.0)\n",
    "\n",
    "for i in np.arange(len(Rb)):\n",
    "    colr = 1.-(len(Rb) - i)/len(Rb)*np.asarray([1, 1, 1])\n",
    "    ax.semilogx(l_on_d, sd[i, :], '-', linewidth=2, color=colr, label=f'$D_I={str(Rb[i])}$')\n",
    "\n",
    "ax.set_xlabel(r'$l/\\delta_{0}$', fontsize=20)\n",
    "ax.set_xticks(np.power(10., np.arange(-2.0, 2.1, 1.)))\n",
    "ax.set_xlim(1e-2, np.power(10, 2.8))\n",
    "plt.gca().xaxis.grid(True, which='minor', linestyle='--')\n",
    "ax.set_ylabel(r'$\\dot{s}/[(1-\\phi^{(0)})\\lambda\\dot{\\gamma}/(n\\nu^{(0)}_\\phi)]$', fontsize=20)\n",
    "ax.set_yticks(np.arange(0., 1.01, 0.25))\n",
    "ax.set_ylim(-0.02, 1.02)\n",
    "ax.legend(fontsize=15, loc='upper right')\n",
    "ax.tick_params(axis='both', which='major', labelsize=13)\n",
    "plt.grid(True)\n",
    "plt.show()"
   ]
  },
  {
   "cell_type": "markdown",
   "metadata": {},
   "source": [
    "Figure below plots \\eqref{eq:porband-sfcten-growrate-wavenum} in the log-log scale."
   ]
  },
  {
   "cell_type": "code",
   "execution_count": null,
   "metadata": {},
   "outputs": [],
   "source": [
    "k = np.logspace(-2,3,10000)\n",
    "Rb = np.asarray([0., 0.0001, 0.001, 0.01])\n",
    "sd = np.asarray([k**2.*(1. - Rbi*k**2)/(k**2+1.) for Rbi in Rb])\n",
    "l_on_d = 2*np.pi/k"
   ]
  },
  {
   "cell_type": "code",
   "execution_count": null,
   "metadata": {},
   "outputs": [],
   "source": [
    "fig, ax = plt.subplots()\n",
    "fig.set_size_inches(9.0, 9.0)\n",
    "\n",
    "for i in np.arange(len(Rb)):\n",
    "    colr = 1.-(len(Rb) - i)/len(Rb)*np.asarray([1, 1, 1])\n",
    "    ax.loglog(l_on_d, sd[i, :], '-', linewidth=2, color=colr, label=f'$D_I={str(Rb[i])}$')\n",
    "\n",
    "ax.set_xlabel(r'$l/\\delta_{0}$', fontsize=20)\n",
    "ax.set_xticks(np.power(10., np.arange(-2.0, 2.1, 1.)))\n",
    "ax.set_xlim(1e-2, np.power(10, 2.8))\n",
    "plt.gca().xaxis.grid(True, which='minor', linestyle='--')\n",
    "\n",
    "ax.set_ylabel(r'$\\dot{s}/[(1-\\phi^{(0)})\\lambda\\dot{\\gamma}/(n\\nu^{(0)}_\\phi)]$', fontsize=20)\n",
    "ax.set_yticks(np.power(10., np.arange(-3, 0.1, 1)))\n",
    "ax.set_ylim(1e-3, 1e0)\n",
    "ax.legend(fontsize=15, loc='upper right')\n",
    "ax.tick_params(axis='both', which='major', labelsize=13)\n",
    "plt.grid(True)\n",
    "plt.show()"
   ]
  },
  {
   "cell_type": "markdown",
   "metadata": {},
   "source": [
    "The characteristics of the dominant perturbation as a function of $\\sfctenvshear$ is plotted below for the wavelength with the largest growth rate $l^\\text{max}/\\delta_0$."
   ]
  },
  {
   "cell_type": "code",
   "execution_count": null,
   "metadata": {},
   "outputs": [],
   "source": [
    "Rb = np.logspace(-5., 1., 10000)\n",
    "ks = np.sqrt((np.sqrt(Rb+1.) - np.sqrt(Rb))/np.sqrt(Rb))\n",
    "l = 2. * np.pi/ks"
   ]
  },
  {
   "cell_type": "code",
   "execution_count": null,
   "metadata": {},
   "outputs": [],
   "source": [
    "fig, ax = plt.subplots()\n",
    "fig.set_size_inches(9.0, 9.0)\n",
    "\n",
    "ax.loglog(Rb, l, '-k', linewidth=2)\n",
    "ax.set_xlabel(r'D$_\\mathcal{I}$', fontsize=20)\n",
    "ax.set_xlim(1e-5, 1e1)\n",
    "ax.set_xticks(np.power(10., np.arange(-4, 1, 2)))\n",
    "ax.set_ylabel(r'$l^{max}/\\delta_{0}$', fontsize=20)\n",
    "ax.set_yticks((1e0, 1e1))\n",
    "ax.tick_params(axis='both', which='major', labelsize=13)\n",
    "\n",
    "plt.show()"
   ]
  },
  {
   "cell_type": "markdown",
   "metadata": {},
   "source": [
    "And below for the growth rate of the dominant perturbation $s_*^\\text{max}$."
   ]
  },
  {
   "cell_type": "code",
   "execution_count": null,
   "metadata": {},
   "outputs": [],
   "source": [
    "Rb = np.logspace(-5., 1., 10000)\n",
    "ks = np.sqrt((np.sqrt(Rb+1.) - np.sqrt(Rb))/np.sqrt(Rb))\n",
    "s = ks**2. * (1. - Rb*ks**2)/(ks**2. + 1.)"
   ]
  },
  {
   "cell_type": "code",
   "execution_count": null,
   "metadata": {},
   "outputs": [],
   "source": [
    "fig, ax = plt.subplots()\n",
    "fig.set_size_inches(9.0, 9.0)\n",
    "\n",
    "ax.loglog(Rb, s, '-k', linewidth=2)\n",
    "ax.set_xlim(1e-5, 1e1)\n",
    "ax.set_xticks(np.power(10., np.arange(-4., 1., 2)))\n",
    "ax.set_yticks([1e-2, 1e-1, 1e0])\n",
    "ax.set_xlabel(r'D$_\\mathcal{I}$', fontsize=20)\n",
    "ax.set_ylabel(r'$\\dot{s}^{max}/[(1-\\phi^{(0)})\\lambda\\dot{\\gamma}/(n\\nu^{(0)}_\\phi)]$', fontsize=20)\n",
    "ax.tick_params(axis='both', which='major', labelsize=13)\n",
    "\n",
    "plt.show()"
   ]
  },
  {
   "cell_type": "code",
   "execution_count": null,
   "metadata": {},
   "outputs": [],
   "source": []
  }
 ],
 "metadata": {
  "kernelspec": {
   "display_name": "Python 3",
   "language": "python",
   "name": "python3"
  },
  "language_info": {
   "codemirror_mode": {
    "name": "ipython",
    "version": 3
   },
   "file_extension": ".py",
   "mimetype": "text/x-python",
   "name": "python",
   "nbconvert_exporter": "python",
   "pygments_lexer": "ipython3",
   "version": "3.7.6"
  },
  "latex_envs": {
   "LaTeX_envs_menu_present": true,
   "autoclose": false,
   "autocomplete": true,
   "bibliofile": "biblio.bib",
   "cite_by": "apalike",
   "current_citInitial": 1,
   "eqLabelWithNumbers": true,
   "eqNumInitial": 1,
   "hotkeys": {
    "equation": "Ctrl-E",
    "itemize": "Ctrl-I"
   },
   "labels_anchors": false,
   "latex_user_defs": false,
   "report_style_numbering": false,
   "user_envs_cfg": false
  }
 },
 "nbformat": 4,
 "nbformat_minor": 2
}
