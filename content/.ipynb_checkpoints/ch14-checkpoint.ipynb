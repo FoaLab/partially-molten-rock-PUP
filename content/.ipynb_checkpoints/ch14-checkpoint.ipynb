{
 "cells": [
  {
   "cell_type": "markdown",
   "metadata": {},
   "source": [
    "# Chapter 14 - Numerical modelling of two-phase flow"
   ]
  },
  {
   "cell_type": "code",
   "execution_count": 1,
   "metadata": {},
   "outputs": [],
   "source": [
    "import matplotlib.pyplot as plt\n",
    "import numpy as np\n",
    "from scipy.optimize import brentq\n",
    "import scipy.sparse as sps\n",
    "import scipy.sparse.linalg as spla"
   ]
  },
  {
   "cell_type": "markdown",
   "metadata": {},
   "source": [
    "## The 1-D solitary wave (instantaneous)\n",
    "\n",
    "The compaction equation reads\n",
    "\n",
    "\\begin{equation}\n",
    "  \\label{eq:num-cmp-eqn}\n",
    "  \\diff{}{z}\\npor^\\permexp\\diff{\\cmp}{z} - \\cmp = \\diff{\\npor^\\permexp}{z}.\n",
    "\\end{equation}\n",
    "\n",
    "### Finite Difference Discretisation\n",
    "\n",
    "The finite-difference form of equation \\eqref{eq:num-cmp-eqn} is\n",
    "\\begin{equation}\n",
    "  \\label{eq:num-cmpeqn-stencil}\n",
    "  \\left[\\begin{array}{ccc}\n",
    "      \\npor^\\permexp_{i-1/2}, & -\\left(\\Dz^2+\\npor^\\permexp_{i-1/2}+\n",
    "                               \\npor^\\permexp_{i+1/2}\\right), & \\npor^\\permexp_{i+1/2}\n",
    "    \\end{array} \\right]\\aprx{\\cmp}_i = \\Dz\\left(\\npor_{i+1/2}^\\permexp -\n",
    "    \\npor_{i-1/2}^\\permexp\\right).\n",
    "\\end{equation}\n",
    "\n",
    "**NOTE**: In stencil notation, multiplication of a stencil $\\left[S_a,\\;\\;S_b,\\;\\;S_c\\right]$ with a discrete variable $q_i$ is computed as $S_aq_{i-1} + S_bq_{i} + S_cq_{i+1}$}.\n",
    "\n",
    "To make progress toward solving for $\\aprx{\\cmp}_i$, we write \\eqref{eq:num-cmpeqn-stencil} in the form\n",
    "$\\mathbf{A}\\posvec = \\boldsymbol{b}$, where $\\boldsymbol{b}$ is a column vector with $b_i=\\Dz\\left(\\npor_{i+1/2}^\\permexp - \\npor_{i-1/2}^\\permexp\\right)$. The unknowns go into column vector $\\posvec$. The stencil is used to fill a tridiagonal band in the matrix $\\mathbf{A}$. The first and last rows in  $\\mathbf{A}$ and $\\boldsymbol{b}$ are constructed to satisfy the boundary conditions. The result is\n",
    "\\begin{equation}\n",
    "  \\label{eq:num-fd-matrix-equation}\n",
    "  \\left(\\begin{array}{cccccc}\n",
    "          1 & 0 & & & &  \\\\[1mm]\n",
    "          [\\,\\, & S_2 & \\,\\,] & & &  \\\\[1mm]\n",
    "            & [\\,\\, & S_3 & \\,\\,] &  &  \\\\[1mm]\n",
    "            & & & \\ddots & & \\\\[1mm]\n",
    "            & &  & [\\,\\, & S_{N_z-1}& \\,\\,] \\\\[1mm]\n",
    "            & & & & 0 & 1 \\end{array}\\right)\n",
    "        \\left(\\begin{array}{c}\\aprx{\\cmp}_1 \\\\[1mm] \\aprx{\\cmp}_2 \\\\[1mm] \n",
    "                \\aprx{\\cmp}_3 \\\\[1mm] \\vdots \\\\[1mm] \\aprx{\\cmp}_{N_z-1} \\\\[1mm] \n",
    "                \\aprx{\\cmp}_{N_z}\\end{array}\\right) = \n",
    "            \\left(\\begin{array}{c} 0 \\\\[1mm] \n",
    "                 b_2 \\\\[1mm] b_3 \\\\[1mm]  \\vdots \\\\[1mm] \n",
    "                 b_{N_z-1} \\\\[1mm] 0\\end{array}\\right),\n",
    "\\end{equation}\n",
    "where $[\\;\\;S_i\\;\\;]$ is the $i^\\text{th}$ stencil, given in equation \\eqref{eq:num-cmpeqn-stencil} above.\n",
    "\n",
    "The Python function below solves the system $\\mathbf{A}\\posvec = \\boldsymbol{b}$:"
   ]
  },
  {
   "cell_type": "code",
   "execution_count": 2,
   "metadata": {},
   "outputs": [],
   "source": [
    "def SolveCompactionRateFiniteDifference(phi, dz):\n",
    "    # matrix size\n",
    "    n_ = len(phi)\n",
    "    # form permeability\n",
    "    K = np.power(0.5*(phi[0:-1] + phi[1:]), par.n)\n",
    "    # form RHS\n",
    "    b = np.zeros(n_, dtype=float)\n",
    "    b[1:-1] = dz*(K[1:] - K[0:-1])\n",
    "    # create sparse matrix\n",
    "    offsets = np.array([0, -1, 1])\n",
    "    data = np.zeros(3 * n_).reshape(3, n_)\n",
    "    data[0, 0] = data[0, -1] = 1\n",
    "    data[0, 1:-1] = -(dz*dz + K[0:-1] + K[1:])  # diagonal\n",
    "    data[1, 0:-2] = K[0:-1]  # sub-diagonal\n",
    "    data[2, 2:] = K[1:]  # sup-diagonal\n",
    "    mtx = sps.dia_matrix((data, offsets), shape=(n_, n_))\n",
    "    mtx = mtx.tocsr()\n",
    "    x = spla.dsolve.spsolve(mtx, b)\n",
    "    return x"
   ]
  },
  {
   "cell_type": "markdown",
   "metadata": {},
   "source": [
    "### Finite Element Discretisation\n",
    "\n",
    "The Finite Element form of equation \\eqref{eq:num-cmp-eqn} is\n",
    "\n",
    "\\begin{equation}\n",
    "  \\label{eq:num-solwave-discrete-elementwise}\n",
    "  \\sum_{i=1}^{N_z}c_i\\int_{\\Omega_e} \\left(K\\basis_e^\\prime\\basis_i^\\prime +\n",
    "    \\basis_e\\basis_i\\right)\\infd\\Omega = \n",
    "  \\int_{\\Omega_e} K\\basis_e^\\prime\\infd\\Omega.\n",
    "\\end{equation}\n",
    "\n",
    "Equation \\eqref{eq:num-solwave-discrete-elementwise} can be expressed in terms of a matrix-vector product $\\mathbf{A}\\boldsymbol{x} = \\boldsymbol{b}$, where \n",
    "\n",
    "  \\begin{array}{rclrcl}\n",
    "    \\label{eq:num-solwave-bilinear-form}\n",
    "    \\mathbf{A} &= \\assembly\\int_{\\Omega_e} \\left(K\\basis_e^\\prime\\basis_i^\\prime +\n",
    "    \\basis_e\\basis_i\\right)\\infd\\Omega \\\\\n",
    "    \\label{eq:num-solwave-linear-form}\n",
    "    \\boldsymbol{b} &= \\assembly\\int_{\\Omega_e} K\\basis_e^\\prime\\infd\\Omega,\n",
    "  \\end{align}\n",
    "\n",
    "and the vector of unknowns $\\boldsymbol{x}$ represents the coefficients $c_i$.  In \\eqref{eq:num-solwave-forms}, $\\assembly$ is the assembly operator. To clarify the assembly operation, we write the bilinear and linear forms evaluated over one element $\\Omega_j$, which is written as the sub-matrix and sub-vector\n",
    "\n",
    "  \\begin{align}\n",
    "    \\label{eq:num-solwave-bilinear-form-submat}\n",
    "    \\mathbf{A}^{\\Omega_j} &=   \\int_{\\Omega_j} \n",
    "      \\left(\\begin{array}{cc}\n",
    "        K\\basis_j^\\prime\\basis_j^\\prime + \\basis_j\\basis_j\n",
    "        & K\\basis_j^\\prime\\basis_{j+1}^\\prime + \\basis_j\\basis_{j+1}\\\\[1mm]\n",
    "        K\\basis_{j+1}^\\prime\\basis_j^\\prime + \\basis_{j+1}\\basis_j\n",
    "        & K\\basis_{j+1}^\\prime\\basis_{j+1}^\\prime + \\basis_{j+1}\\basis_{j+1}\n",
    "      \\end{array}\\right)\\infd\\Omega,\\\\\n",
    "    \\label{eq:num-solwave-linear-form-subvec}\n",
    "    \\boldsymbol{b}^{\\Omega_j} &=  \\int_{\\Omega_j} \\left(\\begin{array}{c}\n",
    "      K\\basis_{j}^\\prime\\\\[1mm]\n",
    "      K\\basis_{j+1}^\\prime\n",
    "     \\end{array}\\right)\\infd\\Omega.\n",
    "  \\end{align}\n",
    "\n",
    "Then the assembly of the global matrix $\\mathbf{A}$ and global vector\n",
    "$\\boldsymbol{b}$ involve summing the entries of\n",
    "$\\mathbf{A}^{\\Omega_j}$ and $\\boldsymbol{b}^{\\Omega_j}$ into the\n",
    "correct locations (recalling that $\\mathbf{A}$ is symmetrical)."
   ]
  },
  {
   "cell_type": "code",
   "execution_count": null,
   "metadata": {},
   "outputs": [],
   "source": []
  },
  {
   "cell_type": "markdown",
   "metadata": {},
   "source": [
    "Error $\\error$ versus number of nodes $N_z$ for numerical solutions of the Compaction Equation \\eqref{eq:num-cmp-eqn}.  The solid line marks the error for the finite difference method \\eqref{eq:num-cmpeqn-stencil}. The dashed line marks the error for the finite element method. The analytical solution is shown in chapter 6."
   ]
  },
  {
   "cell_type": "code",
   "execution_count": null,
   "metadata": {},
   "outputs": [],
   "source": []
  },
  {
   "cell_type": "markdown",
   "metadata": {},
   "source": [
    "## A 2-D manufactured solution (instantaneous)"
   ]
  },
  {
   "cell_type": "markdown",
   "metadata": {},
   "source": [
    "The manufactured solution, computed using equations \\eqref{eq:num-manufac-solution}, for $m=2$, $\\psi^*=\\scalarpotential^*=1$, and $\\phi^*=0.1$. All quantities are dimensionless. The pressure $\\pres_\\manufac$ is not shown. __(a)__ The shear potential $\\psi_\\manufac$ is shown in grayscale; vectors illustrate $\\Curl\\psi_\\manufac\\zhat$, the incompressible part of the flow. __(b)__ The compaction potential $\\scalarpotential_\\manufac$ is shown in grayscale; vectors illustrate $\\Grad\\scalarpotential_\\manufac$, the compaction part of the flow. __(c)__ The porosity $\\phi_\\manufac$ is shown in grayscale; vectors illustrate the total solid flow field $\\vel\\sol_\\manufac$."
   ]
  },
  {
   "cell_type": "code",
   "execution_count": null,
   "metadata": {},
   "outputs": [],
   "source": []
  },
  {
   "cell_type": "markdown",
   "metadata": {},
   "source": [
    "Error $\\error$ versus number of nodes $\\sqrt{N}$ along one direction. Solutions are obtained by finite-difference discretisation of the Stokes/Darcy system \\eqref{eq:num_mfcsol_gov}. The solid line marks the velocity error; the dashed line marks the pressure error. The analytical (manufactured) solution is shown in Figure \\ref{fig:manufactured_solution}."
   ]
  },
  {
   "cell_type": "code",
   "execution_count": null,
   "metadata": {},
   "outputs": [],
   "source": []
  }
 ],
 "metadata": {
  "kernelspec": {
   "display_name": "Python 3",
   "language": "python",
   "name": "python3"
  },
  "language_info": {
   "codemirror_mode": {
    "name": "ipython",
    "version": 3
   },
   "file_extension": ".py",
   "mimetype": "text/x-python",
   "name": "python",
   "nbconvert_exporter": "python",
   "pygments_lexer": "ipython3",
   "version": "3.7.6"
  },
  "latex_envs": {
   "LaTeX_envs_menu_present": true,
   "autoclose": false,
   "autocomplete": true,
   "bibliofile": "biblio.bib",
   "cite_by": "apalike",
   "current_citInitial": 1,
   "eqLabelWithNumbers": true,
   "eqNumInitial": 1,
   "hotkeys": {
    "equation": "Ctrl-E",
    "itemize": "Ctrl-I"
   },
   "labels_anchors": false,
   "latex_user_defs": false,
   "report_style_numbering": false,
   "user_envs_cfg": false
  }
 },
 "nbformat": 4,
 "nbformat_minor": 2
}
