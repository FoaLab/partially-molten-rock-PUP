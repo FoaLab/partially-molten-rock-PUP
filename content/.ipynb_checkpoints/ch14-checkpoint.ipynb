{
 "cells": [
  {
   "cell_type": "markdown",
   "metadata": {},
   "source": [
    "# Chapter 14 - Numerical modelling of two-phase flow"
   ]
  },
  {
   "cell_type": "code",
   "execution_count": 5,
   "metadata": {},
   "outputs": [],
   "source": [
    "import matplotlib.pyplot as plt\n",
    "import numpy as np\n",
    "from scipy.optimize import brentq\n",
    "import scipy.sparse as sps\n",
    "import scipy.sparse.linalg as spla"
   ]
  },
  {
   "cell_type": "markdown",
   "metadata": {},
   "source": [
    "## The 1-D solitary wave (instantaneous)\n",
    "\n",
    "The compaction equation reads\n",
    "\n",
    "\\begin{equation}\n",
    "  \\label{eq:num-cmp-eqn}\n",
    "  \\diff{}{z}\\npor^\\permexp\\diff{\\cmp}{z} - \\cmp = \\diff{\\npor^\\permexp}{z}.\n",
    "\\end{equation}\n",
    "\n",
    "### Finite Difference Discretisation\n",
    "\n",
    "The finite-difference form of equation \\eqref{eq:num-cmp-eqn} is\n",
    "\\begin{equation}\n",
    "  \\label{eq:num-cmpeqn-stencil}\n",
    "  \\left[\\begin{array}{ccc}\n",
    "      \\npor^\\permexp_{i-1/2}, & -\\left(\\Dz^2+\\npor^\\permexp_{i-1/2}+\n",
    "                               \\npor^\\permexp_{i+1/2}\\right), & \\npor^\\permexp_{i+1/2}\n",
    "    \\end{array} \\right]\\aprx{\\cmp}_i = \\Dz\\left(\\npor_{i+1/2}^\\permexp -\n",
    "    \\npor_{i-1/2}^\\permexp\\right).\n",
    "\\end{equation}\n",
    "\n",
    "**NOTE**: In stencil notation, multiplication of a stencil $\\left[S_a,\\;\\;S_b,\\;\\;S_c\\right]$ with a discrete variable $q_i$ is computed as $S_aq_{i-1} + S_bq_{i} + S_cq_{i+1}$}.\n",
    "\n",
    "To make progress toward solving for $\\aprx{\\cmp}_i$, we write \\eqref{eq:num-cmpeqn-stencil} in the form\n",
    "$\\mathbf{A}\\posvec = \\boldsymbol{b}$, where $\\boldsymbol{b}$ is a column vector with $b_i=\\Dz\\left(\\npor_{i+1/2}^\\permexp - \\npor_{i-1/2}^\\permexp\\right)$. The unknowns go into column vector $\\posvec$. The stencil is used to fill a tridiagonal band in the matrix $\\mathbf{A}$. The first and last rows in  $\\mathbf{A}$ and $\\boldsymbol{b}$ are constructed to satisfy the boundary conditions. The result is\n",
    "\\begin{equation}\n",
    "  \\label{eq:num-fd-matrix-equation}\n",
    "  \\left(\\begin{array}{cccccc}\n",
    "          1 & 0 & & & &  \\\\[1mm]\n",
    "          [\\,\\, & S_2 & \\,\\,] & & &  \\\\[1mm]\n",
    "            & [\\,\\, & S_3 & \\,\\,] &  &  \\\\[1mm]\n",
    "            & & & \\ddots & & \\\\[1mm]\n",
    "            & &  & [\\,\\, & S_{N_z-1}& \\,\\,] \\\\[1mm]\n",
    "            & & & & 0 & 1 \\end{array}\\right)\n",
    "        \\left(\\begin{array}{c}\\aprx{\\cmp}_1 \\\\[1mm] \\aprx{\\cmp}_2 \\\\[1mm] \n",
    "                \\aprx{\\cmp}_3 \\\\[1mm] \\vdots \\\\[1mm] \\aprx{\\cmp}_{N_z-1} \\\\[1mm] \n",
    "                \\aprx{\\cmp}_{N_z}\\end{array}\\right) = \n",
    "            \\left(\\begin{array}{c} 0 \\\\[1mm] \n",
    "                 b_2 \\\\[1mm] b_3 \\\\[1mm]  \\vdots \\\\[1mm] \n",
    "                 b_{N_z-1} \\\\[1mm] 0\\end{array}\\right),\n",
    "\\end{equation}\n",
    "where $[\\;\\;S_i\\;\\;]$ is the $i^\\text{th}$ stencil, given in equation \\eqref{eq:num-cmpeqn-stencil} above.\n",
    "\n",
    "The Python function below solves the system $\\mathbf{A}\\posvec = \\boldsymbol{b}$:"
   ]
  },
  {
   "cell_type": "code",
   "execution_count": 6,
   "metadata": {},
   "outputs": [],
   "source": [
    "def SolveCompactionRateFiniteDifference(phi, dz):\n",
    "    # matrix size\n",
    "    n_ = len(phi)\n",
    "    # form permeability\n",
    "    K = np.power(0.5*(phi[0:-1] + phi[1:]), par.n)\n",
    "    # form RHS\n",
    "    b = np.zeros(n_, dtype=float)\n",
    "    b[1:-1] = dz*(K[1:] - K[0:-1])\n",
    "    # create sparse matrix\n",
    "    offsets = np.array([0, -1, 1])\n",
    "    data = np.zeros(3 * n_).reshape(3, n_)\n",
    "    data[0, 0] = data[0, -1] = 1\n",
    "    data[0, 1:-1] = -(dz*dz + K[0:-1] + K[1:])  # diagonal\n",
    "    data[1, 0:-2] = K[0:-1]  # sub-diagonal\n",
    "    data[2, 2:] = K[1:]  # sup-diagonal\n",
    "    mtx = sps.dia_matrix((data, offsets), shape=(n_, n_))\n",
    "    mtx = mtx.tocsr()\n",
    "    x = spla.dsolve.spsolve(mtx, b)\n",
    "    return x"
   ]
  },
  {
   "cell_type": "markdown",
   "metadata": {},
   "source": [
    "### Finite Element Discretisation\n",
    "\n",
    "The Finite Element form of equation \\eqref{eq:num-cmp-eqn} is\n",
    "\n",
    "\\begin{equation}\n",
    "  \\label{eq:num-solwave-discrete-elementwise}\n",
    "  \\sum_{i=1}^{N_z}c_i\\int_{\\Omega_e} \\left(K\\basis_e^\\prime\\basis_i^\\prime +\n",
    "    \\basis_e\\basis_i\\right)\\infd\\Omega = \n",
    "  \\int_{\\Omega_e} K\\basis_e^\\prime\\infd\\Omega.\n",
    "\\end{equation}\n",
    "\n",
    "Equation \\eqref{eq:num-solwave-discrete-elementwise} can be expressed in terms of a matrix-vector product $\\mathbf{A}\\boldsymbol{x} = \\boldsymbol{b}$, where \n",
    "\n",
    "\\begin{align*}\n",
    "    \\mathbf{A} &= \\sum_e \\int_{\\Omega_e} \\left(K\\basis_e^\\prime\\basis_i^\\prime +\n",
    "    \\basis_e\\basis_i\\right)\\infd\\Omega \\\\\n",
    "    \\boldsymbol{b} &= \\sum_e \\int_{\\Omega_e} K\\basis_e^\\prime\\infd\\Omega,\n",
    "\\end{align*}\n",
    "\n",
    "and the vector of unknowns $\\boldsymbol{x}$ represents the coefficients $c_i$.  In the equation above, $\\sum_e$ is the assembly operator. To clarify the assembly operation, we write the bilinear and linear forms evaluated over one element $\\Omega_j$, which is written as the sub-matrix and sub-vector\n",
    "\n",
    "\\begin{align}\n",
    "    \\mathbf{A}^{\\Omega_e} &=   \\int_{\\Omega_e} \n",
    "      \\left(\\begin{array}{cc}\n",
    "        K\\basis_j^\\prime\\basis_j^\\prime + \\basis_j\\basis_j\n",
    "        & K\\basis_j^\\prime\\basis_{j+1}^\\prime + \\basis_j\\basis_{j+1} \\\\\n",
    "        K\\basis_{j+1}^\\prime\\basis_j^\\prime + \\basis_{j+1}\\basis_j\n",
    "        & K\\basis_{j+1}^\\prime\\basis_{j+1}^\\prime + \\basis_{j+1}\\basis_{j+1}\n",
    "      \\end{array}\\right)\\infd\\Omega,\\\\\n",
    "    \\label{eq:num-solwave-linear-form-subvec}\n",
    "    \\boldsymbol{b}^{\\Omega_e} &=  \\int_{\\Omega_e} \\left(\\begin{array}{c}\n",
    "      K\\basis_{j}^\\prime \\\\\n",
    "      K\\basis_{j+1}^\\prime\n",
    "     \\end{array}\\right)\\infd\\Omega.\n",
    "\\end{align}\n",
    "\n",
    "\n",
    "Then the assembly of the global matrix $\\mathbf{A}$ and global vector $\\boldsymbol{b}$ involve summing the entries of\n",
    "$\\mathbf{A}^{\\Omega_e}$ and $\\boldsymbol{b}^{\\Omega_e}$ into the correct locations (recalling that $\\mathbf{A}$ is symmetrical).\n",
    "\n",
    "The Python function below solves the system $\\mathbf{A}\\boldsymbol{x} = \\boldsymbol{b}$:"
   ]
  },
  {
   "cell_type": "code",
   "execution_count": 7,
   "metadata": {},
   "outputs": [],
   "source": [
    "def SolveCompactionRateFiniteElement(phi, dz):\n",
    "    N = len(phi)  # number of nodes\n",
    "    N_elements = N - 1  # number of elements\n",
    "    A = sps.dok_matrix((N, N), dtype=np.double)  # allocate memory\n",
    "    b = np.zeros(N, dtype=np.double)  # allocate memory\n",
    "    for e in range(N_elements):  # loop over elements\n",
    "        A[e:e+2, e:e+2] = 0.0  # initializing matrix\n",
    "\n",
    "    Me = sps.dok_matrix([[1./dz, -1./dz], [-1.0/dz, 1./dz]], dtype=np.double)\n",
    "    Ce = sps.dok_matrix([[dz/3., dz/6.], [dz/6., dz/3.]], dtype=np.double)\n",
    "    re = np.asarray([-1.0, 1.0], dtype=np.double)\n",
    "\n",
    "    K = np.power(0.5 * (phi[0:-1] + phi[1:]), par.n)  # form permeability at element centres\n",
    "\n",
    "    for e in range(N_elements):  # loop over elements\n",
    "        # element bilinear form\n",
    "        Ae = Me * K[e] + Ce\n",
    "        be = re * K[e]  # element linear form\n",
    "        # cur_Ae = A[e:e+2, e:e+2]\n",
    "        A[e:e+2, e:e+2] += Ae  # assemble global matrix\n",
    "        b[e:e+2] += be  # assemble global RHS\n",
    "\n",
    "    A[[0, -1], [0, -1]] = 1.0\n",
    "    A[[0, -1], [1, -2]] = 0.0  # zero boundary rows\n",
    "    b[0] = b[-1] = 0  # boundary condition\n",
    "    A = A.tocsr()\n",
    "    x = spla.dsolve.spsolve(A, b)  # solve\n",
    "    return x"
   ]
  },
  {
   "cell_type": "markdown",
   "metadata": {},
   "source": [
    "The analytical solution of the compact equation \\eqref{eq:num-cmp-eqn} is given by"
   ]
  },
  {
   "cell_type": "code",
   "execution_count": 8,
   "metadata": {},
   "outputs": [],
   "source": [
    "def xi(f, A):\n",
    "    return -np.sqrt(A+0.5)*(-2.*np.sqrt(A-f)+np.log((np.sqrt(A-1.0)-np.sqrt(A-f))/\n",
    "                                                    (np.sqrt(A-1)+np.sqrt(A-f)))/np.sqrt(A-1.))\n",
    "\n",
    "def SolitaryWaveGenerator(Amplitude, z, z0):\n",
    "    f = np.ones(z.shape[0])\n",
    "    zeta = np.abs(z-z0)\n",
    "    fEpsilon = 1.000000001\n",
    "    zetaEpsilon = xi(fEpsilon, Amplitude)\n",
    "    ifill = np.nonzero(zeta <= zetaEpsilon)\n",
    "    for i in ifill[0]:\n",
    "        f[i] = brentq(lambda phi_: xi(phi_, Amplitude)-zeta[i], fEpsilon, Amplitude)\n",
    "    return f"
   ]
  },
  {
   "cell_type": "markdown",
   "metadata": {},
   "source": [
    "Figure below plots the error $\\error$ versus number of nodes $N_z$ for numerical solutions of the Compaction Equation \\eqref{eq:num-cmp-eqn}. The solid line marks the error for the finite difference method \\eqref{eq:num-cmpeqn-stencil}. The dashed line marks the error for the finite element method. The analytical solution is shown in chapter 6."
   ]
  },
  {
   "cell_type": "code",
   "execution_count": 9,
   "metadata": {},
   "outputs": [
    {
     "ename": "NameError",
     "evalue": "name 'err_fe' is not defined",
     "output_type": "error",
     "traceback": [
      "\u001b[0;31m---------------------------------------------------------------------------\u001b[0m",
      "\u001b[0;31mNameError\u001b[0m                                 Traceback (most recent call last)",
      "\u001b[0;32m<ipython-input-9-7e336e8196a5>\u001b[0m in \u001b[0;36m<module>\u001b[0;34m\u001b[0m\n\u001b[1;32m     30\u001b[0m \u001b[0;31m# plotting\u001b[0m\u001b[0;34m\u001b[0m\u001b[0;34m\u001b[0m\u001b[0;34m\u001b[0m\u001b[0m\n\u001b[1;32m     31\u001b[0m \u001b[0mp1\u001b[0m\u001b[0;34m,\u001b[0m \u001b[0;34m=\u001b[0m \u001b[0mplt\u001b[0m\u001b[0;34m.\u001b[0m\u001b[0mloglog\u001b[0m\u001b[0;34m(\u001b[0m\u001b[0mpar\u001b[0m\u001b[0;34m.\u001b[0m\u001b[0mni\u001b[0m\u001b[0;34m,\u001b[0m \u001b[0merr_fd\u001b[0m\u001b[0;34m,\u001b[0m \u001b[0;34m'-ok'\u001b[0m\u001b[0;34m,\u001b[0m \u001b[0mlinewidth\u001b[0m\u001b[0;34m=\u001b[0m\u001b[0;36m2\u001b[0m\u001b[0;34m)\u001b[0m\u001b[0;34m\u001b[0m\u001b[0;34m\u001b[0m\u001b[0m\n\u001b[0;32m---> 32\u001b[0;31m \u001b[0mp2\u001b[0m\u001b[0;34m,\u001b[0m \u001b[0;34m=\u001b[0m \u001b[0mplt\u001b[0m\u001b[0;34m.\u001b[0m\u001b[0mloglog\u001b[0m\u001b[0;34m(\u001b[0m\u001b[0mpar\u001b[0m\u001b[0;34m.\u001b[0m\u001b[0mni\u001b[0m\u001b[0;34m,\u001b[0m \u001b[0merr_fe\u001b[0m\u001b[0;34m,\u001b[0m \u001b[0;34m'--ok'\u001b[0m\u001b[0;34m,\u001b[0m \u001b[0mlinewidth\u001b[0m\u001b[0;34m=\u001b[0m\u001b[0;36m2\u001b[0m\u001b[0;34m)\u001b[0m\u001b[0;34m\u001b[0m\u001b[0;34m\u001b[0m\u001b[0m\n\u001b[0m\u001b[1;32m     33\u001b[0m \u001b[0mplt\u001b[0m\u001b[0;34m.\u001b[0m\u001b[0mloglog\u001b[0m\u001b[0;34m(\u001b[0m\u001b[0mpar\u001b[0m\u001b[0;34m.\u001b[0m\u001b[0mni\u001b[0m\u001b[0;34m[\u001b[0m\u001b[0;36m3\u001b[0m\u001b[0;34m:\u001b[0m\u001b[0;36m7\u001b[0m\u001b[0;34m]\u001b[0m\u001b[0;34m,\u001b[0m \u001b[0;36m100\u001b[0m\u001b[0;34m*\u001b[0m\u001b[0mnp\u001b[0m\u001b[0;34m.\u001b[0m\u001b[0mpower\u001b[0m\u001b[0;34m(\u001b[0m\u001b[0mpar\u001b[0m\u001b[0;34m.\u001b[0m\u001b[0mni\u001b[0m\u001b[0;34m[\u001b[0m\u001b[0;36m3\u001b[0m\u001b[0;34m:\u001b[0m\u001b[0;36m7\u001b[0m\u001b[0;34m]\u001b[0m\u001b[0;34m,\u001b[0m \u001b[0;34m-\u001b[0m\u001b[0;36m2\u001b[0m\u001b[0;34m)\u001b[0m\u001b[0;34m,\u001b[0m \u001b[0;34m'-k'\u001b[0m\u001b[0;34m,\u001b[0m \u001b[0mlinewidth\u001b[0m\u001b[0;34m=\u001b[0m\u001b[0;36m1\u001b[0m\u001b[0;34m)\u001b[0m\u001b[0;34m\u001b[0m\u001b[0;34m\u001b[0m\u001b[0m\n\u001b[1;32m     34\u001b[0m \u001b[0mplt\u001b[0m\u001b[0;34m.\u001b[0m\u001b[0mxlabel\u001b[0m\u001b[0;34m(\u001b[0m\u001b[0;34mr'$N$'\u001b[0m\u001b[0;34m,\u001b[0m \u001b[0mfontsize\u001b[0m\u001b[0;34m=\u001b[0m\u001b[0;36m20\u001b[0m\u001b[0;34m)\u001b[0m\u001b[0;34m\u001b[0m\u001b[0;34m\u001b[0m\u001b[0m\n",
      "\u001b[0;31mNameError\u001b[0m: name 'err_fe' is not defined"
     ]
    },
    {
     "data": {
      "image/png": "[encoded data removed]",
      "text/plain": [
       "<Figure size 460.8x367.2 with 1 Axes>"
      ]
     },
     "metadata": {
      "needs_background": "light"
     },
     "output_type": "display_data"
    }
   ],
   "source": [
    "class PAR:\n",
    "    def __init__(self, n=3, ls=4, zm=40, ni=np.power(2., [4, 5, 6, 7, 8, 9, 10, 11, 12, 13, 14])):\n",
    "        self.n = n\n",
    "        self.Ls = ls\n",
    "        self.V = 2*self.Ls + 1\n",
    "        self.zm = zm\n",
    "        self.ni = ni\n",
    "\n",
    "fig, ax = plt.subplots()\n",
    "zoom = 1.0\n",
    "fig.set_size_inches(6.4 * zoom, 5.1 * zoom)\n",
    "\n",
    "par = PAR()\n",
    "err_fd = np.zeros(len(par.ni))\n",
    "err_fe = np.zeros(len(par.ni))\n",
    "\n",
    "for n, ni in enumerate(par.ni):\n",
    "    z = np.linspace(-par.zm, par.zm, ni)\n",
    "    # semi-analytical solitary wave profile\n",
    "    phi = SolitaryWaveGenerator(par.Ls, z, 0)\n",
    "    # analytical compaction rate\n",
    "    a_cmp = np.sign(z) * np.sqrt(-2. * par.V * (phi-1)**2 / phi**2 * (phi - (par.V-1.)/2.))\n",
    "    # numerical compaction rate\n",
    "    n_cmp_fd = SolveCompactionRateFiniteDifference(phi, z[1]-z[0])\n",
    "    n_cmp_fe = SolveCompactionRateFiniteElement(phi, z[1]-z[0])\n",
    "    # error\n",
    "    err_fd[n] = np.linalg.norm(a_cmp-n_cmp_fd, 2) / np.linalg.norm(a_cmp, 2)\n",
    "    err_fe[n] = np.linalg.norm(a_cmp-n_cmp_fe, 2) / np.linalg.norm(a_cmp, 2)\n",
    "\n",
    "# plotting\n",
    "p1, = plt.loglog(par.ni, err_fd, '-ok', linewidth=2)\n",
    "p2, = plt.loglog(par.ni, err_fe, '--ok', linewidth=2)\n",
    "plt.loglog(par.ni[3:7], 100*np.power(par.ni[3:7], -2), '-k', linewidth=1)\n",
    "plt.xlabel(r'$N$', fontsize=20)\n",
    "plt.ylabel(r'$E(\\mathcal{C})$', fontsize=25)\n",
    "plt.text(par.ni[5], 190*np.power(par.ni[6], -2), r'slope$=-2$', \n",
    "         fontsize=16, rotation=-36, horizontalalignment='center')\n",
    "plt.xlim(10.0, 3.e4)\n",
    "plt.ylim(1.e-8, 1.0)\n",
    "leg = plt.legend(handles=[p1, p2], labels=['finite difference', 'finite element'])\n",
    "plt.show()"
   ]
  },
  {
   "cell_type": "markdown",
   "metadata": {},
   "source": [
    "## A 2-D manufactured solution (instantaneous)"
   ]
  },
  {
   "cell_type": "markdown",
   "metadata": {},
   "source": [
    "The manufactured solution, computed using equations \\eqref{eq:num-manufac-solution}, for $m=2$, $\\psi^*=\\scalarpotential^*=1$, and $\\phi^*=0.1$. All quantities are dimensionless. The pressure $\\pres_\\manufac$ is not shown. __(a)__ The shear potential $\\psi_\\manufac$ is shown in grayscale; vectors illustrate $\\Curl\\psi_\\manufac\\zhat$, the incompressible part of the flow. __(b)__ The compaction potential $\\scalarpotential_\\manufac$ is shown in grayscale; vectors illustrate $\\Grad\\scalarpotential_\\manufac$, the compaction part of the flow. __(c)__ The porosity $\\phi_\\manufac$ is shown in grayscale; vectors illustrate the total solid flow field $\\vel\\sol_\\manufac$."
   ]
  },
  {
   "cell_type": "code",
   "execution_count": null,
   "metadata": {},
   "outputs": [],
   "source": []
  },
  {
   "cell_type": "markdown",
   "metadata": {},
   "source": [
    "Error $\\error$ versus number of nodes $\\sqrt{N}$ along one direction. Solutions are obtained by finite-difference discretisation of the Stokes/Darcy system \\eqref{eq:num_mfcsol_gov}. The solid line marks the velocity error; the dashed line marks the pressure error. The analytical (manufactured) solution is shown in Figure \\ref{fig:manufactured_solution}."
   ]
  },
  {
   "cell_type": "code",
   "execution_count": null,
   "metadata": {},
   "outputs": [],
   "source": []
  }
 ],
 "metadata": {
  "kernelspec": {
   "display_name": "Python 3",
   "language": "python",
   "name": "python3"
  },
  "language_info": {
   "codemirror_mode": {
    "name": "ipython",
    "version": 3
   },
   "file_extension": ".py",
   "mimetype": "text/x-python",
   "name": "python",
   "nbconvert_exporter": "python",
   "pygments_lexer": "ipython3",
   "version": "3.7.6"
  },
  "latex_envs": {
   "LaTeX_envs_menu_present": true,
   "autoclose": false,
   "autocomplete": true,
   "bibliofile": "biblio.bib",
   "cite_by": "apalike",
   "current_citInitial": 1,
   "eqLabelWithNumbers": true,
   "eqNumInitial": 1,
   "hotkeys": {
    "equation": "Ctrl-E",
    "itemize": "Ctrl-I"
   },
   "labels_anchors": false,
   "latex_user_defs": false,
   "report_style_numbering": false,
   "user_envs_cfg": false
  }
 },
 "nbformat": 4,
 "nbformat_minor": 2
}
